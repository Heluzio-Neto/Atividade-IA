{
  "cells": [
    {
      "cell_type": "code",
      "execution_count": null,
      "metadata": {
        "id": "RQWbffLI-ZbK"
      },
      "outputs": [],
      "source": [
        "from sklearn.datasets import load_iris"
      ]
    },
    {
      "cell_type": "code",
      "execution_count": null,
      "metadata": {
        "colab": {
          "base_uri": "https://localhost:8080/",
          "height": 542
        },
        "id": "aHgw5NQ2-2mu",
        "outputId": "7dbba9e6-2125-4238-a32d-a2dd735c5b5e"
      },
      "outputs": [],
      "source": [
        "import plotly.express as px\n",
        "df = px.data.iris()\n",
        "fig = px.scatter_3d(df,x='sepal_length', y='sepal_width', z='petal_width', color='species')\n",
        "fig.show()"
      ]
    },
    {
      "cell_type": "code",
      "execution_count": null,
      "metadata": {
        "id": "elOT-HQDJNUE"
      },
      "outputs": [],
      "source": [
        "# métodos KNN e K-means\n",
        "from sklearn.neighbors import KNeighborsClassifier\n",
        "from sklearn.cluster import KMeans"
      ]
    },
    {
      "cell_type": "code",
      "execution_count": null,
      "metadata": {
        "id": "MNKR6j00J8gI"
      },
      "outputs": [],
      "source": [
        "# métricas de avaliação\n",
        "from sklearn.model_selection import train_test_split\n",
        "from sklearn.metrics import classification_report\n",
        "from sklearn.metrics import confusion_matrix"
      ]
    },
    {
      "cell_type": "code",
      "execution_count": null,
      "metadata": {
        "id": "sjZeM6dtKPB8"
      },
      "outputs": [],
      "source": [
        "X,y = load_iris(return_X_y=True)\n",
        "X_train, X_test, y_train, y_test = train_test_split(X, y, test_size = 0.30, random_state=13)\n"
      ]
    },
    {
      "cell_type": "markdown",
      "metadata": {
        "id": "IhrZXjUZLdnT"
      },
      "source": [
        "KNN"
      ]
    },
    {
      "cell_type": "code",
      "execution_count": null,
      "metadata": {
        "id": "OMfYynr3Lchb"
      },
      "outputs": [],
      "source": [
        "n_neighbors = 10"
      ]
    },
    {
      "cell_type": "code",
      "execution_count": null,
      "metadata": {
        "id": "-0TIcQL1Lsah"
      },
      "outputs": [],
      "source": [
        "model = KNeighborsClassifier(n_neighbors)"
      ]
    },
    {
      "cell_type": "code",
      "execution_count": null,
      "metadata": {
        "colab": {
          "base_uri": "https://localhost:8080/",
          "height": 75
        },
        "id": "pQf8JbrBLtCm",
        "outputId": "f3d6e5ac-0e8c-4e35-ead5-ab767c39795d"
      },
      "outputs": [],
      "source": [
        "model.fit(X_train, y_train)"
      ]
    },
    {
      "cell_type": "code",
      "execution_count": null,
      "metadata": {
        "id": "48XzKo3JNJwd"
      },
      "outputs": [],
      "source": [
        "y_pred = model.predict(X_test)"
      ]
    },
    {
      "cell_type": "code",
      "execution_count": null,
      "metadata": {
        "colab": {
          "base_uri": "https://localhost:8080/"
        },
        "id": "zsiARY_VNPEj",
        "outputId": "2f160414-3fec-457d-c66b-0bd51cf95cf5"
      },
      "outputs": [],
      "source": [
        "iris = load_iris()\n",
        "print(classification_report(y_test, y_pred, target_names=iris.target_names))"
      ]
    },
    {
      "cell_type": "code",
      "execution_count": null,
      "metadata": {
        "colab": {
          "base_uri": "https://localhost:8080/"
        },
        "id": "EeEJslfaNVmL",
        "outputId": "87a1f19f-60ce-49d8-f923-22b35959caae"
      },
      "outputs": [],
      "source": [
        "confusion_matrix(y_test, y_pred)"
      ]
    },
    {
      "cell_type": "markdown",
      "metadata": {
        "id": "uJVrfgk3NrFL"
      },
      "source": [
        "K-Means"
      ]
    },
    {
      "cell_type": "code",
      "execution_count": null,
      "metadata": {
        "id": "jgT3YfrGNlm3"
      },
      "outputs": [],
      "source": [
        "n_cluster = 3"
      ]
    },
    {
      "cell_type": "code",
      "execution_count": null,
      "metadata": {
        "id": "pQFXRSBLNvTE"
      },
      "outputs": [],
      "source": [
        "model = KMeans(n_cluster, random_state=0)"
      ]
    },
    {
      "cell_type": "code",
      "execution_count": null,
      "metadata": {
        "colab": {
          "base_uri": "https://localhost:8080/",
          "height": 144
        },
        "id": "1juJcdnRN0eU",
        "outputId": "05af4bed-ddb9-4437-eaeb-203af15920b0"
      },
      "outputs": [],
      "source": [
        "model.fit(X_train)"
      ]
    },
    {
      "cell_type": "code",
      "execution_count": null,
      "metadata": {
        "colab": {
          "base_uri": "https://localhost:8080/"
        },
        "id": "xr81BssEN2i8",
        "outputId": "1cfba748-db11-4b6a-bb45-08b8543c6288"
      },
      "outputs": [],
      "source": [
        "model.labels_"
      ]
    },
    {
      "cell_type": "code",
      "execution_count": null,
      "metadata": {
        "id": "Hetk973xN5d7"
      },
      "outputs": [],
      "source": [
        "y_pred = model.predict(X_test)"
      ]
    },
    {
      "cell_type": "code",
      "execution_count": null,
      "metadata": {
        "colab": {
          "base_uri": "https://localhost:8080/"
        },
        "id": "193oBPuWOVsb",
        "outputId": "db5dcbd0-1b1a-4f62-c0b1-ca174fae3eaf"
      },
      "outputs": [],
      "source": [
        "iris = load_iris()\n",
        "print(classification_report(y_test,y_pred, target_names = iris.target_names))"
      ]
    },
    {
      "cell_type": "code",
      "execution_count": null,
      "metadata": {
        "colab": {
          "base_uri": "https://localhost:8080/"
        },
        "id": "A6Xk9n61OlH1",
        "outputId": "5172a4df-a42d-466e-ebe6-2cd61bce9ebd"
      },
      "outputs": [],
      "source": [
        "confusion_matrix(y_test, y_pred)"
      ]
    }
  ],
  "metadata": {
    "colab": {
      "provenance": [],
      "toc_visible": true
    },
    "kernelspec": {
      "display_name": "Python 3",
      "name": "python3"
    },
    "language_info": {
      "codemirror_mode": {
        "name": "ipython",
        "version": 3
      },
      "file_extension": ".py",
      "mimetype": "text/x-python",
      "name": "python",
      "nbconvert_exporter": "python",
      "pygments_lexer": "ipython3",
      "version": "3.11.3"
    }
  },
  "nbformat": 4,
  "nbformat_minor": 0
}
